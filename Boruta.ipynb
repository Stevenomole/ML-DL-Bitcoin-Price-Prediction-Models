{
 "cells": [
  {
   "cell_type": "code",
   "execution_count": null,
   "id": "1f5d59f5-2d37-4a46-9d93-00a6b5f9ea38",
   "metadata": {},
   "outputs": [],
   "source": [
    "from sklearn.ensemble import RandomForestClassifier\n",
    "from boruta import BorutaPy\n",
    "import pandas as pd\n",
    "import numpy as np"
   ]
  },
  {
   "cell_type": "code",
   "execution_count": null,
   "id": "63647548-6a47-4549-85ab-3b012ca19310",
   "metadata": {},
   "outputs": [],
   "source": [
    "# load data\n",
    "# import data\n",
    "df = pd.read_csv('TA_data.csv')\n",
    "\n",
    "# separate the inputs and target\n",
    "X = df.drop('timestamp', axis=1)\n",
    "\n",
    "# create binary classification for price movement\n",
    "price = pd.DataFrame()\n",
    "price['today'] = df['price-ohlc-usd-c']\n",
    "price['next day'] = price['today'].shift(-1)\n",
    "y = (price['next day'] > price['today']).astype(int)\n",
    "\n",
    "# convert DataFrame to numpy array\n",
    "X_np = X.values.copy()\n",
    "y_np = y.values.copy()"
   ]
  },
  {
   "cell_type": "code",
   "execution_count": null,
   "id": "03f69127-af64-4cd3-8dfd-b24f1d670075",
   "metadata": {},
   "outputs": [],
   "source": [
    "# define random forest classifier, with utilising all cores and\n",
    "# sampling in proportion to y labels\n",
    "rf = RandomForestClassifier(n_jobs=-1, class_weight='balanced', max_depth=5)\n",
    "\n",
    "# define Boruta feature selection method\n",
    "feat_selector = BorutaPy(rf, n_estimators='auto', verbose=2, random_state=1)\n",
    "\n",
    "# find all relevant features\n",
    "feat_selector.fit(X_np, y_np)\n",
    "\n",
    "# check selected features\n",
    "features_bool = feat_selector.support_\n",
    "feature_ranking = feat_selector.ranking_\n",
    "features = np.array(X.columns)\n",
    "features_selected = features[features_bool]\n",
    "features_selected_tentative = features[feature_ranking <= feat_selector.max_iter]"
   ]
  },
  {
   "cell_type": "code",
   "execution_count": null,
   "id": "693d0b16-a0cb-4f4e-b6a3-645f994e0854",
   "metadata": {},
   "outputs": [],
   "source": [
    "print('Features selected:', features_selected)\n",
    "features_selected = np.insert(features_selected, 0, 'timestamp')\n",
    "df[features_selected].to_csv('Boruta_TA_data.csv', index=False)"
   ]
  },
  {
   "cell_type": "code",
   "execution_count": null,
   "id": "7c74991c-df1c-49ad-9062-b1e42045f2a9",
   "metadata": {},
   "outputs": [],
   "source": [
    "df[features_selected]"
   ]
  },
  {
   "cell_type": "code",
   "execution_count": null,
   "id": "afc06f6f-628b-4fa4-b007-1aa5f91702eb",
   "metadata": {},
   "outputs": [],
   "source": []
  }
 ],
 "metadata": {
  "kernelspec": {
   "display_name": "Python 3 (ipykernel)",
   "language": "python",
   "name": "python3"
  },
  "language_info": {
   "codemirror_mode": {
    "name": "ipython",
    "version": 3
   },
   "file_extension": ".py",
   "mimetype": "text/x-python",
   "name": "python",
   "nbconvert_exporter": "python",
   "pygments_lexer": "ipython3",
   "version": "3.12.7"
  }
 },
 "nbformat": 4,
 "nbformat_minor": 5
}
