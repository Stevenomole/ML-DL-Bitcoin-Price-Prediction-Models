{
 "cells": [
  {
   "cell_type": "code",
   "execution_count": 1,
   "id": "9516c77e",
   "metadata": {},
   "outputs": [],
   "source": [
    "from tensorflow.keras.models import Sequential\n",
    "from tensorflow.keras.optimizers import Adam\n",
    "from tensorflow.keras import metrics\n",
    "from tensorflow.keras.layers import LSTM, Dense, Dropout, TimeDistributed\n",
    "from tensorflow.keras.callbacks import ModelCheckpoint, EarlyStopping\n",
    "from sklearn.model_selection import train_test_split\n",
    "from sklearn.metrics import accuracy_score, precision_score, recall_score, f1_score, roc_auc_score, matthews_corrcoef\n",
    "from sklearn.preprocessing import StandardScaler\n",
    "from imblearn.over_sampling import RandomOverSampler\n",
    "import numpy as np\n",
    "import pandas as pd\n",
    "import os\n",
    "import random\n",
    "import tensorflow as tf"
   ]
  },
  {
   "cell_type": "code",
   "execution_count": 2,
   "id": "f56d1670",
   "metadata": {},
   "outputs": [],
   "source": [
    "# resetting the seeds for reproducibility\n",
    "def reset_random_seeds():\n",
    "    n = 1\n",
    "    os.environ['PYTHONHASHSEED'] = str(n)\n",
    "    tf.random.set_seed(n)\n",
    "    np.random.seed(n)\n",
    "    random.seed(n)\n",
    "\n",
    "reset_random_seeds()\n",
    "\n",
    "# import data\n",
    "df = pd.read_csv('Boruta_onchain_data.csv')\n",
    "df1 = pd.read_csv('all_data.csv')\n",
    "\n",
    "df = df[df['timestamp'] >= '2013-03-11'].reset_index(drop=True)\n",
    "\n",
    "#onchain_data_new\n",
    "#TA_data\n",
    "#all_data\n",
    "#Boruta_data\n",
    "#Boruta_onchain_data\n",
    "#Boruta_TA_data\n",
    "\n",
    "# separate the inputs and target\n",
    "X = df.drop('timestamp', axis=1)\n",
    "\n",
    "# create binary classification for price movement\n",
    "price = pd.DataFrame()\n",
    "price['today'] = df1['price-ohlc-usd-c']\n",
    "price['next day'] = price['today'].shift(-1)\n",
    "y = (price['next day'] > price['today']).astype(int)\n",
    "\n",
    "# separate training data from testing data\n",
    "X_train, X_test, y_train, y_test = train_test_split(X, y, test_size=0.2, shuffle=False)"
   ]
  },
  {
   "cell_type": "code",
   "execution_count": 3,
   "id": "3fd48c16",
   "metadata": {},
   "outputs": [],
   "source": [
    "# scale the input data\n",
    "scaler = StandardScaler()\n",
    "\n",
    "# Reshape X_train and X_test if they are 1D\n",
    "if X_train.ndim == 1:\n",
    "    X_train = X_train.to_numpy().reshape(-1, 1)\n",
    "if X_test.ndim == 1:\n",
    "    X_test = X_test.to_numpy().reshape(-1, 1)\n",
    "\n",
    "X_train_scaled = scaler.fit_transform(X_train)\n",
    "X_test_scaled = scaler.transform(X_test)\n",
    "\n",
    "# reshape the input data for CNN-LSTM (samples, timesteps, features)\n",
    "def create_sequences(data, timesteps):\n",
    "    X = []\n",
    "    for i in range(len(data) - timesteps + 1):\n",
    "        X.append(data[i:i + timesteps])\n",
    "    return np.array(X)\n",
    "\n",
    "timesteps = 5\n",
    "X_train_reshaped = create_sequences(X_train_scaled, timesteps)\n",
    "X_test_reshaped = create_sequences(X_test_scaled, timesteps)\n",
    "y_train = y_train[timesteps - 1:]\n",
    "y_test = y_test[timesteps - 1:]"
   ]
  },
  {
   "cell_type": "code",
   "execution_count": 4,
   "id": "e4d70da3-6c37-405b-bbb8-97f786a038ec",
   "metadata": {},
   "outputs": [],
   "source": [
    "from tensorflow.keras import backend as K\n",
    "\n",
    "def f1_score_2(y_true, y_pred):\n",
    "    true_positives = K.sum(K.round(K.clip(y_true * y_pred, 0, 1)))\n",
    "    possible_positives = K.sum(K.round(K.clip(y_true, 0, 1)))\n",
    "    predicted_positives = K.sum(K.round(K.clip(y_pred, 0, 1)))\n",
    "    precision = true_positives / (predicted_positives + K.epsilon())\n",
    "    recall = true_positives / (possible_positives + K.epsilon())\n",
    "    f1_val = 2*(precision*recall)/(precision+recall+K.epsilon())\n",
    "    return f1_val"
   ]
  },
  {
   "cell_type": "code",
   "execution_count": 5,
   "id": "7abec676",
   "metadata": {},
   "outputs": [
    {
     "name": "stderr",
     "output_type": "stream",
     "text": [
      "C:\\Users\\oluwa\\AppData\\Roaming\\Python\\Python312\\site-packages\\keras\\src\\layers\\rnn\\rnn.py:200: UserWarning: Do not pass an `input_shape`/`input_dim` argument to a layer. When using Sequential models, prefer using an `Input(shape)` object as the first layer in the model instead.\n",
      "  super().__init__(**kwargs)\n"
     ]
    }
   ],
   "source": [
    "# Define the LSTM model\n",
    "model = Sequential()\n",
    "model.add(LSTM(units=256, input_shape=(X_train_reshaped.shape[1], X_train_reshaped.shape[2]), return_sequences=True))\n",
    "model.add(TimeDistributed(Dense(1, activation='linear')))\n",
    "model.add(Dropout(0.2))\n",
    "model.add(LSTM(units=128, return_sequences=True))\n",
    "model.add(Dropout(0.2))\n",
    "model.add(LSTM(units=64))\n",
    "model.add(Dropout(0.2))\n",
    "model.add(Dense(64, activation='relu'))\n",
    "model.add(Dense(1, activation='softmax'))\n",
    "\n",
    "# compile the model\n",
    "model.compile(optimizer=Adam(learning_rate=0.001), loss='binary_crossentropy', metrics=[metrics.BinaryAccuracy(), \n",
    "                                                                                        metrics.Precision(), metrics.Recall(), f1_score_2])"
   ]
  },
  {
   "cell_type": "code",
   "execution_count": null,
   "id": "e54a1cef",
   "metadata": {
    "scrolled": true
   },
   "outputs": [],
   "source": [
    "# train with the training dataset\n",
    "early_stopping = EarlyStopping(monitor='f1_score_2', patience=50)\n",
    "history = model.fit(X_train_reshaped, y_train, epochs=100, batch_size=50, validation_split=0.1, callbacks=[early_stopping])"
   ]
  },
  {
   "cell_type": "code",
   "execution_count": null,
   "id": "87aa6da0",
   "metadata": {},
   "outputs": [],
   "source": [
    "# Make predictions on the test set\n",
    "y_pred = model.predict(X_test_reshaped)\n",
    "y_pred = (y_pred > 0.5)\n",
    "\n",
    "# evaluate the prediction performance\n",
    "print(\"Accuracy:\", accuracy_score(y_test, y_pred))\n",
    "print(\"Precision:\", precision_score(y_test, y_pred))\n",
    "print(\"Recall:\", recall_score(y_test, y_pred))\n",
    "print(\"F1-score:\", f1_score(y_test, y_pred))"
   ]
  },
  {
   "cell_type": "code",
   "execution_count": null,
   "id": "6b956615",
   "metadata": {},
   "outputs": [],
   "source": [
    "time = df['timestamp']\n",
    "time_train, time_test = train_test_split(time, test_size=0.2, shuffle=False)\n",
    "time_test = time_test[timesteps-1:]\n",
    "\n",
    "# Flatten y_pred to be a 1-dimensional array\n",
    "y_pred_flat = y_pred.flatten()\n",
    "\n",
    "# Create a DataFrame with columns time_test, y_test, and y_pred\n",
    "pred_res = pd.DataFrame({'date': time_test, 'actual': y_test.values, 'prediction': y_pred_flat, 'value': price['today'][-748:]})\n",
    "\n",
    "pred_res.to_csv('pred/lstm_uni_data.csv', index=False)"
   ]
  },
  {
   "cell_type": "code",
   "execution_count": null,
   "id": "a8950393",
   "metadata": {},
   "outputs": [],
   "source": []
  },
  {
   "cell_type": "code",
   "execution_count": null,
   "id": "cfb0adaf-37e6-49c3-8f39-84bc3068ac89",
   "metadata": {},
   "outputs": [],
   "source": []
  }
 ],
 "metadata": {
  "kernelspec": {
   "display_name": "Python 3 (ipykernel)",
   "language": "python",
   "name": "python3"
  },
  "language_info": {
   "codemirror_mode": {
    "name": "ipython",
    "version": 3
   },
   "file_extension": ".py",
   "mimetype": "text/x-python",
   "name": "python",
   "nbconvert_exporter": "python",
   "pygments_lexer": "ipython3",
   "version": "3.12.7"
  }
 },
 "nbformat": 4,
 "nbformat_minor": 5
}
