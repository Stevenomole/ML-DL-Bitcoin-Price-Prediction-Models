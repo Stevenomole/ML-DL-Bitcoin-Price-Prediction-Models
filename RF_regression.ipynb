{
 "cells": [
  {
   "cell_type": "code",
   "execution_count": 1,
   "id": "7cd93214",
   "metadata": {},
   "outputs": [],
   "source": [
    "import os\n",
    "import random\n",
    "import numpy as np\n",
    "import pandas as pd\n",
    "import tensorflow as tf\n",
    "from sklearn.preprocessing import StandardScaler\n",
    "from sklearn.ensemble import RandomForestRegressor\n",
    "from sklearn.model_selection import train_test_split, KFold\n",
    "from sklearn.metrics import mean_squared_error, mean_absolute_error, r2_score\n",
    "from sklearn.metrics import accuracy_score, precision_score, recall_score, f1_score, roc_auc_score, matthews_corrcoef"
   ]
  },
  {
   "cell_type": "code",
   "execution_count": 2,
   "id": "0e42a5c3-8300-4a0e-a0d1-8c4432f3ff73",
   "metadata": {},
   "outputs": [],
   "source": [
    "# resetting the seeds for reproducibility\n",
    "def reset_random_seeds():\n",
    "    n = 1\n",
    "    os.environ['PYTHONHASHSEED'] = str(n)\n",
    "    tf.random.set_seed(n)\n",
    "    np.random.seed(n)\n",
    "    random.seed(n)\n",
    "\n",
    "reset_random_seeds()"
   ]
  },
  {
   "cell_type": "code",
   "execution_count": 3,
   "id": "273a7f97",
   "metadata": {},
   "outputs": [
    {
     "data": {
      "text/plain": [
       "(752,)"
      ]
     },
     "execution_count": 3,
     "metadata": {},
     "output_type": "execute_result"
    }
   ],
   "source": [
    "# import data\n",
    "df = pd.read_csv('TA_data.csv', parse_dates=True)\n",
    "#df = df[df['timestamp'] >= '2013-03-11'].reset_index(drop=True)\n",
    "df1 = pd.read_csv('all_data.csv', parse_dates=True)\n",
    "\n",
    "#onchain_data_new\n",
    "#TA_data\n",
    "#all_data\n",
    "#Boruta_data\n",
    "#Boruta_TA_data\n",
    "#Boruta_onchain_data\n",
    "\n",
    "# separate the inputs and target\n",
    "X = df.drop('timestamp', axis=1)\n",
    "\n",
    "# create binary classification for price movement. this assigns 1 to y if price will move upward next day.\n",
    "price = pd.DataFrame()\n",
    "price['today'] = df1['price-ohlc-usd-c']\n",
    "price['next day'] = price['today'].shift(-1)\n",
    "y = price['next day']\n",
    "\n",
    "# Drop the last row where 'next day' would be NaN after shifting\n",
    "X = X[:-1]\n",
    "y = y.dropna()\n",
    "\n",
    "# separate training data from testing data\n",
    "X_train, X_test, y_train, y_test = train_test_split(X, y, test_size=0.2, shuffle=False)\n",
    "\n",
    "y_test.shape"
   ]
  },
  {
   "cell_type": "code",
   "execution_count": 4,
   "id": "fbe54416",
   "metadata": {},
   "outputs": [],
   "source": [
    "# scale the input data\n",
    "scaler = StandardScaler()\n",
    "\n",
    "# Reshape X_train and X_test if they are 1D\n",
    "if X_train.ndim == 1:\n",
    "    X_train = X_train.to_numpy().reshape(-1, 1)\n",
    "if X_test.ndim == 1:\n",
    "    X_test = X_test.to_numpy().reshape(-1, 1)\n",
    "\n",
    "X_train_scaled = scaler.fit_transform(X_train)\n",
    "X_test_scaled = scaler.transform(X_test)\n",
    "\n",
    "# reshape the input data (samples, timesteps, features)\n",
    "def create_sequences(data, timesteps):\n",
    "    X = []\n",
    "    for i in range(len(data) - timesteps + 1):\n",
    "        X.append(data[i:i + timesteps])\n",
    "    return np.array(X)\n",
    "\n",
    "timesteps = 5\n",
    "X_train_reshaped = create_sequences(X_train_scaled, timesteps)\n",
    "X_test_reshaped = create_sequences(X_test_scaled, timesteps)\n",
    "y_train = y_train[timesteps - 1:]\n",
    "y_test = y_test[timesteps - 1:]\n",
    "\n",
    "# reshape to 2D\n",
    "X_train_reshaped = np.reshape(X_train_reshaped, (X_train_reshaped.shape[0], X_train_reshaped.shape[1]*X_train_reshaped.shape[2]))\n",
    "X_test_reshaped = np.reshape(X_test_reshaped, (X_test_reshaped.shape[0], X_test_reshaped.shape[1]*X_test_reshaped.shape[2]))"
   ]
  },
  {
   "cell_type": "code",
   "execution_count": 5,
   "id": "0166dbd9",
   "metadata": {},
   "outputs": [],
   "source": [
    "# Define the Random Forest Classifier model\n",
    "model = RandomForestRegressor(n_estimators=20, random_state=0)\n",
    "\n",
    "# Train the model\n",
    "model.fit(X_train_reshaped, y_train)\n",
    "\n",
    "# Make predictions on the test data\n",
    "y_pred = model.predict(X_test_reshaped)"
   ]
  },
  {
   "cell_type": "code",
   "execution_count": 6,
   "id": "87446dca",
   "metadata": {},
   "outputs": [
    {
     "name": "stdout",
     "output_type": "stream",
     "text": [
      "Root Mean Squared Error: 1935.4578493316733\n",
      "Mean Absolute Error: 1521.4790956483953\n",
      "R-squared Score: 0.9770527060487115\n"
     ]
    }
   ],
   "source": [
    "# evaluate the prediction performance\n",
    "print(\"Root Mean Squared Error:\", np.sqrt(mean_squared_error(y_test, y_pred)))\n",
    "print(\"Mean Absolute Error:\", mean_absolute_error(y_test, y_pred))\n",
    "print(\"R-squared Score:\", r2_score(y_test, y_pred))"
   ]
  },
  {
   "cell_type": "code",
   "execution_count": 7,
   "id": "6d4a617f-ebf5-449f-9724-28649b1c8a77",
   "metadata": {},
   "outputs": [],
   "source": [
    "time = df['timestamp']\n",
    "time_train, time_test = train_test_split(time, test_size=0.2, shuffle=False)\n",
    "time_test = time_test[timesteps:]\n",
    "\n",
    "# Flatten y_pred to be a 1-dimensional array\n",
    "y_pred_flat = y_pred.flatten()\n",
    "\n",
    "# Create a DataFrame with columns time_test, y_test, and y_pred\n",
    "pred_res = pd.DataFrame({'date': time_test, 'actual': y_test.values, 'prediction': y_pred_flat, 'value': price['today'][-748:]})\n",
    "\n",
    "pred_res.to_csv('pred2/rf_uni_data.csv', index=False)"
   ]
  },
  {
   "cell_type": "code",
   "execution_count": null,
   "id": "f2966ff8-5c3f-4f53-8ad3-d1a610863181",
   "metadata": {},
   "outputs": [],
   "source": []
  },
  {
   "cell_type": "code",
   "execution_count": null,
   "id": "89d915ba-fd31-410b-9e66-16b36af1ba70",
   "metadata": {},
   "outputs": [],
   "source": []
  }
 ],
 "metadata": {
  "kernelspec": {
   "display_name": "Python 3 (ipykernel)",
   "language": "python",
   "name": "python3"
  },
  "language_info": {
   "codemirror_mode": {
    "name": "ipython",
    "version": 3
   },
   "file_extension": ".py",
   "mimetype": "text/x-python",
   "name": "python",
   "nbconvert_exporter": "python",
   "pygments_lexer": "ipython3",
   "version": "3.12.7"
  }
 },
 "nbformat": 4,
 "nbformat_minor": 5
}
